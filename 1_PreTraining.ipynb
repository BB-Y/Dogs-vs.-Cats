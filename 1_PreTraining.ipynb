{
 "cells": [
  {
   "cell_type": "markdown",
   "metadata": {
    "cellType": "markdown",
    "uuid": "36ff2292-78c2-42c8-935f-199ed2a02cd2"
   },
   "source": [
    "# AI算法工程师\n",
    "## 毕业项目\n",
    "### 猫狗识别\n",
    "\n",
    "本节介绍构建dataset和dataloader的过程，以及使用模型预测测试图像。"
   ]
  },
  {
   "cell_type": "markdown",
   "metadata": {
    "cellType": "markdown",
    "uuid": "1d8cf579-19b8-4fd7-a2dc-8fc665d362cf"
   },
   "source": [
    "#### 1.加载数据"
   ]
  },
  {
   "cell_type": "code",
   "execution_count": 4,
   "metadata": {
    "uuid": "269fb92e-9949-4cc5-8886-45ecc230f752"
   },
   "outputs": [],
   "source": [
    "%load_ext autoreload\n",
    "%autoreload 2\n",
    "from dataloader import CatDogDataset"
   ]
  },
  {
   "cell_type": "code",
   "execution_count": 5,
   "metadata": {
    "uuid": "56452934-5570-40b2-85ec-368d6f1a9ebf"
   },
   "outputs": [],
   "source": [
    "from torchvision import transforms\n",
    "\n",
    "transform_train = transforms.Compose([ \n",
    "    transforms.Resize(256),                          \n",
    "    transforms.RandomCrop(224),                      \n",
    "    transforms.RandomHorizontalFlip(),               \n",
    "    transforms.ToTensor(),                          \n",
    "    transforms.Normalize((0.485, 0.456, 0.406),      \n",
    "                         (0.229, 0.224, 0.225))])\n",
    "transform_val = transforms.Compose([\n",
    "    transforms.Resize(256),\n",
    "    transforms.CenterCrop(224),\n",
    "    transforms.ToTensor(),\n",
    "    transforms.Normalize([0.485, 0.456, 0.406], \n",
    "                         [0.229, 0.224, 0.225])])"
   ]
  },
  {
   "cell_type": "markdown",
   "metadata": {
    "cellType": "markdown",
    "uuid": "96594ed8-df5e-4f7b-8afc-1900e66d34af"
   },
   "source": [
    "##### 将train数据划分为训练集和验证集"
   ]
  },
  {
   "cell_type": "code",
   "execution_count": 14,
   "metadata": {
    "uuid": "f79ebb89-2c04-4ce9-a04e-dcad767f3fe8"
   },
   "outputs": [],
   "source": [
    "from utils import imagelist\n",
    "#此处使用自定义方法返回文件夹下的文件名列表\n",
    "train_files = imagelist('data/train')"
   ]
  },
  {
   "cell_type": "code",
   "execution_count": 7,
   "metadata": {
    "uuid": "ef8d3967-1fbc-460b-8709-e506e06fabad"
   },
   "outputs": [],
   "source": [
    "import random\n",
    "random.shuffle(train_files)\n",
    "train_list = train_files[:20000]\n",
    "valid_list = train_files[20000:]"
   ]
  },
  {
   "cell_type": "code",
   "execution_count": 8,
   "metadata": {
    "uuid": "574cde55-c230-49ac-a952-b256b4de2234"
   },
   "outputs": [],
   "source": [
    "train_dataset = CatDogDataset(image_paths=train_list, transform=transform_train, mode='train' )\n",
    "val_dataset = CatDogDataset(image_paths=valid_list, transform=transform_val, mode='val' )"
   ]
  },
  {
   "cell_type": "code",
   "execution_count": 9,
   "metadata": {
    "uuid": "1096783f-7042-4404-9166-25e43a99d4f1"
   },
   "outputs": [],
   "source": [
    "from torch.utils.data import Dataset, DataLoader\n",
    "\n",
    "batch_size = 64\n",
    "train_dataLoader = DataLoader(train_dataset, batch_size=batch_size)\n",
    "valid_dataLoader = DataLoader(val_dataset, batch_size=batch_size)\n"
   ]
  },
  {
   "cell_type": "markdown",
   "metadata": {
    "cellType": "markdown",
    "uuid": "732a9d70-3937-4de6-893a-c2a34fd9f35a"
   },
   "source": [
    "#### 2.测试样本\n",
    "使用未经训练的模型预测，因为是二分类问题，预测值应为0.5左右。"
   ]
  },
  {
   "cell_type": "code",
   "execution_count": 10,
   "metadata": {
    "uuid": "b0695915-2e5e-44bc-b934-1d38e9665cea"
   },
   "outputs": [],
   "source": [
    "from model import CustomCNN, Pre_CNN_VGG"
   ]
  },
  {
   "cell_type": "code",
   "execution_count": 13,
   "metadata": {
    "uuid": "b4dd9c7f-4610-4396-b774-313132831e33"
   },
   "outputs": [],
   "source": [
    "image = next(iter(train_dataLoader))[0]\n",
    "image = image[0].unsqueeze(0)"
   ]
  },
  {
   "cell_type": "code",
   "execution_count": 69,
   "metadata": {
    "uuid": "18b69cbb-528b-4542-8546-55c27acb6a0b"
   },
   "outputs": [],
   "source": [
    "model = CustomCNN()\n",
    "preds = model(image)"
   ]
  },
  {
   "cell_type": "code",
   "execution_count": 72,
   "metadata": {
    "uuid": "b05f7292-4320-4498-a3bc-1dee88ee4d07"
   },
   "outputs": [
    {
     "data": {
      "text/plain": [
       "tensor([[0.4946, 0.5054]], grad_fn=<SoftmaxBackward>)"
      ]
     },
     "execution_count": 72,
     "metadata": {},
     "output_type": "execute_result"
    }
   ],
   "source": [
    "import torch.nn.functional as F\n",
    "preds = F.softmax(preds, dim=1)\n",
    "preds"
   ]
  },
  {
   "cell_type": "markdown",
   "metadata": {
    "cellType": "markdown",
    "uuid": "c1673027-3329-4720-8779-75fa8d85d88c"
   },
   "source": [
    "使用预训练的VGG模型预测"
   ]
  },
  {
   "cell_type": "code",
   "execution_count": 79,
   "metadata": {
    "uuid": "31b153be-d387-4d0d-b701-5f66bb47f01c"
   },
   "outputs": [],
   "source": [
    "model = Pre_CNN_VGG()"
   ]
  },
  {
   "cell_type": "code",
   "execution_count": 81,
   "metadata": {
    "uuid": "a26089a5-907c-4516-b2da-410ed751ee41"
   },
   "outputs": [
    {
     "data": {
      "text/plain": [
       "tensor([[0.3549, 0.6451]], grad_fn=<SoftmaxBackward>)"
      ]
     },
     "execution_count": 81,
     "metadata": {},
     "output_type": "execute_result"
    }
   ],
   "source": [
    "preds = model(image)\n",
    "preds = F.softmax(preds, dim=1)\n",
    "preds"
   ]
  }
 ],
 "metadata": {
  "kernelspec": {
   "display_name": "PyTorch",
   "language": "python",
   "name": "pytorch"
  },
  "language_info": {
   "codemirror_mode": {
    "name": "ipython",
    "version": 3
   },
   "file_extension": ".py",
   "mimetype": "text/x-python",
   "name": "python",
   "nbconvert_exporter": "python",
   "pygments_lexer": "ipython3",
   "version": "3.6.4"
  }
 },
 "nbformat": 4,
 "nbformat_minor": 2
}
