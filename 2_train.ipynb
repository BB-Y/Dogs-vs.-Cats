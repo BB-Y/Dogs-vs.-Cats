{
 "cells": [
  {
   "cell_type": "markdown",
   "metadata": {
    "cellType": "markdown",
    "uuid": "57489f5e-9393-4bf0-a275-3a2b1a204f30"
   },
   "source": [
    "# AI算法工程师\n",
    "## 毕业项目\n",
    "### 猫狗识别\n",
    "\n",
    "手动创建一个CNN模型以及使用预训练模型训练（迁移学习）。"
   ]
  },
  {
   "cell_type": "markdown",
   "metadata": {
    "cellType": "markdown",
    "uuid": "fc726c21-fe14-4041-9f4f-a8f1faaec69b"
   },
   "source": [
    "### 1.加载数据\n",
    "和上一个notebook中的创建流程一样，创建train_dataLoader和val_dataLoader"
   ]
  },
  {
   "cell_type": "code",
   "execution_count": 1,
   "metadata": {
    "uuid": "4a2f32be-cfd6-4e6a-8bc1-b4b2045af23e"
   },
   "outputs": [],
   "source": [
    "%load_ext autoreload\n",
    "%autoreload 2\n",
    "from model import CustomCNN, Pre_CNN_VGG"
   ]
  },
  {
   "cell_type": "code",
   "execution_count": 2,
   "metadata": {
    "uuid": "1eb944dc-1fc1-4f90-a63a-55308bc8b23a"
   },
   "outputs": [],
   "source": [
    "from dataloader import CatDogDataset\n",
    "from torchvision import transforms\n",
    "from utils import imagelist\n",
    "import random\n",
    "from torch.utils.data import Dataset, DataLoader\n",
    "import torch.nn as nn\n",
    "import torch\n",
    "import time\n",
    "from pytorchtools import EarlyStopping\n"
   ]
  },
  {
   "cell_type": "code",
   "execution_count": 3,
   "metadata": {
    "uuid": "75edf9c9-158b-4ac5-9992-2cfcd2c33084"
   },
   "outputs": [],
   "source": [
    "transform_train = transforms.Compose([ \n",
    "    transforms.Resize(256),                          \n",
    "    transforms.RandomCrop(224),                      \n",
    "    transforms.RandomHorizontalFlip(),               \n",
    "    transforms.ToTensor(),                          \n",
    "    transforms.Normalize((0.485, 0.456, 0.406),      \n",
    "                         (0.229, 0.224, 0.225))])\n",
    "transform_val = transforms.Compose([\n",
    "    transforms.Resize(256),\n",
    "    transforms.CenterCrop(224),\n",
    "    transforms.ToTensor(),\n",
    "    transforms.Normalize([0.485, 0.456, 0.406], \n",
    "                         [0.229, 0.224, 0.225])])"
   ]
  },
  {
   "cell_type": "code",
   "execution_count": 4,
   "metadata": {
    "uuid": "00a19e1c-c94e-4889-af1b-a26686ab183b"
   },
   "outputs": [],
   "source": [
    "train_files = imagelist('data/train')\n",
    "random.shuffle(train_files)\n",
    "train_list = train_files[:20000]\n",
    "valid_list = train_files[20000:]"
   ]
  },
  {
   "cell_type": "code",
   "execution_count": 5,
   "metadata": {
    "uuid": "581e4e12-37fc-4e6c-9416-fe869468aaf3"
   },
   "outputs": [],
   "source": [
    "train_dataset = CatDogDataset(image_paths=train_list, transform=transform_train, mode='train' )\n",
    "val_dataset = CatDogDataset(image_paths=valid_list, transform=transform_val, mode='val' )\n"
   ]
  },
  {
   "cell_type": "code",
   "execution_count": 6,
   "metadata": {
    "uuid": "d73f5bba-40ca-4e30-b9cb-731654bc8e12"
   },
   "outputs": [],
   "source": [
    "batch_size = 64\n",
    "train_dataLoader = DataLoader(train_dataset, batch_size=batch_size)\n",
    "val_dataLoader = DataLoader(val_dataset, batch_size=batch_size)"
   ]
  },
  {
   "cell_type": "markdown",
   "metadata": {
    "cellType": "markdown",
    "uuid": "038a694f-541c-45c6-b97a-50656aa6e07c"
   },
   "source": [
    "### 2.定义训练函数\n",
    "可以通过给train_model传入不同的参数值来观察不同参数对训练结果的影响，方便调优。"
   ]
  },
  {
   "cell_type": "code",
   "execution_count": 9,
   "metadata": {
    "uuid": "6012bab1-b73d-4ac5-be48-b45832dcc098"
   },
   "outputs": [],
   "source": [
    "def train_model(net, train_dataLoader, val_dataLoader, criterion, optimizer,early_stopping, num_epoch):\n",
    "    train_loss_list = []\n",
    "    train_accuracy_list = []\n",
    "    val_loss_list = []\n",
    "    val_accuracy_list = []\n",
    "    start = time.time()\n",
    "    net = net.cuda()\n",
    "    for epoch in range(num_epoch):\n",
    "        epoch_loss = 0\n",
    "        epoch_accuracy = 0\n",
    "        for X, y in train_dataLoader:\n",
    "            X = X.cuda()\n",
    "            y = y.cuda()\n",
    "            preds = net(X)\n",
    "\n",
    "            loss = criterion(preds, y)\n",
    "\n",
    "            optimizer.zero_grad()\n",
    "            loss.backward()\n",
    "            optimizer.step()\n",
    "\n",
    "            accuracy = ((preds.argmax(dim=1) == y).float().mean())\n",
    "            epoch_accuracy += float(accuracy)\n",
    "            epoch_loss += float(loss)\n",
    "            #print('.', end='', flush=True)\n",
    "\n",
    "        epoch_accuracy = epoch_accuracy/len(train_dataLoader)\n",
    "        train_accuracy_list.append(epoch_accuracy)\n",
    "        epoch_loss = epoch_loss / len(train_dataLoader)\n",
    "        train_loss_list.append(epoch_loss)\n",
    "        print(\"Epoch: {}, train loss: {:.4f}, train accracy: {:.4f}, time: {}\".format(epoch, epoch_loss, epoch_accuracy, time.time() - start))\n",
    "\n",
    "\n",
    "        with torch.no_grad():\n",
    "            val_epoch_loss = 0\n",
    "            val_epoch_accuracy = 0\n",
    "            for val_X, val_y in val_dataLoader:\n",
    "                val_X = val_X.cuda()\n",
    "                val_y = val_y.cuda()\n",
    "                val_preds = net(val_X)\n",
    "                val_loss = criterion(val_preds, val_y)\n",
    "\n",
    "                val_epoch_loss += float(val_loss)\n",
    "                val_accuracy = ((val_preds.argmax(dim=1) == val_y).float().mean())\n",
    "                val_epoch_accuracy += float(val_accuracy)\n",
    "            val_epoch_accuracy = val_epoch_accuracy/len(val_dataLoader)\n",
    "            val_epoch_loss = val_epoch_loss / len(val_dataLoader)\n",
    "            val_accuracy_list.append(val_epoch_accuracy)\n",
    "            val_loss_list.append(val_epoch_loss)\n",
    "            print(\"Epoch: {}, valid loss: {:.4f}, valid accracy: {:.4f}, time: {}\\n\".format(epoch, val_epoch_loss, val_epoch_accuracy, time.time() - start))\n",
    "            \n",
    "        early_stopping(val_epoch_loss, net)\n",
    "        if early_stopping.early_stop:\n",
    "            print(\"Early stopping\")\n",
    "            break\n",
    "    return train_loss_list ,train_accuracy_list ,val_loss_list ,val_accuracy_list"
   ]
  },
  {
   "cell_type": "markdown",
   "metadata": {
    "cellType": "markdown",
    "uuid": "bfe88f0f-f89b-4cdd-8393-95239516ba48"
   },
   "source": [
    "### 3.训练模型\n",
    "##### 3.1使用自定义模型CustomCNN训练"
   ]
  },
  {
   "cell_type": "code",
   "execution_count": 10,
   "metadata": {
    "uuid": "84c6c007-ec7a-4acb-ac83-52f5f10b2a53"
   },
   "outputs": [
    {
     "name": "stdout",
     "output_type": "stream",
     "text": [
      "Epoch: 0, train loss: 0.6120, train accracy: 0.6603, time: 155.69037652015686\n",
      "Epoch: 0, valid loss: 0.5510, valid accracy: 0.7197, time: 192.28469395637512\n",
      "\n",
      "Validation loss decreased (inf --> 0.551026).  Saving model ...\n",
      "Epoch: 1, train loss: 0.5139, train accracy: 0.7515, time: 341.5398886203766\n",
      "Epoch: 1, valid loss: 0.5147, valid accracy: 0.7532, time: 378.1076035499573\n",
      "\n",
      "Validation loss decreased (0.551026 --> 0.514733).  Saving model ...\n",
      "Epoch: 2, train loss: 0.4785, train accracy: 0.7738, time: 527.1865396499634\n",
      "Epoch: 2, valid loss: 0.5043, valid accracy: 0.7516, time: 565.5379469394684\n",
      "\n",
      "EarlyStopping counter: 1 out of 5\n",
      "Epoch: 3, train loss: 0.4579, train accracy: 0.7884, time: 715.9470508098602\n",
      "Epoch: 3, valid loss: 0.4513, valid accracy: 0.7933, time: 752.7274060249329\n",
      "\n",
      "Validation loss decreased (0.514733 --> 0.451317).  Saving model ...\n",
      "Epoch: 4, train loss: 0.4410, train accracy: 0.7977, time: 903.5906331539154\n",
      "Epoch: 4, valid loss: 0.4398, valid accracy: 0.7979, time: 939.6210899353027\n",
      "\n",
      "EarlyStopping counter: 1 out of 5\n",
      "Epoch: 5, train loss: 0.4232, train accracy: 0.8071, time: 1088.1905059814453\n",
      "Epoch: 5, valid loss: 0.4139, valid accracy: 0.8161, time: 1124.1695935726166\n",
      "\n",
      "Validation loss decreased (0.451317 --> 0.413871).  Saving model ...\n",
      "Epoch: 6, train loss: 0.4088, train accracy: 0.8181, time: 1271.6885001659393\n",
      "Epoch: 6, valid loss: 0.3907, valid accracy: 0.8289, time: 1307.7637717723846\n",
      "\n",
      "Validation loss decreased (0.413871 --> 0.390743).  Saving model ...\n",
      "Epoch: 7, train loss: 0.3981, train accracy: 0.8206, time: 1456.6010143756866\n",
      "Epoch: 7, valid loss: 0.3909, valid accracy: 0.8252, time: 1493.1327140331268\n",
      "\n",
      "EarlyStopping counter: 1 out of 5\n",
      "Epoch: 8, train loss: 0.3862, train accracy: 0.8309, time: 1642.4204812049866\n",
      "Epoch: 8, valid loss: 0.3687, valid accracy: 0.8390, time: 1678.3838710784912\n",
      "\n",
      "Validation loss decreased (0.390743 --> 0.368658).  Saving model ...\n",
      "Epoch: 9, train loss: 0.3835, train accracy: 0.8320, time: 1827.0959405899048\n",
      "Epoch: 9, valid loss: 0.3760, valid accracy: 0.8348, time: 1863.208400964737\n",
      "\n",
      "EarlyStopping counter: 1 out of 5\n"
     ]
    }
   ],
   "source": [
    "early_stopping = EarlyStopping(patience=5, verbose=True, delta=0.02)\n",
    "criterion = nn.CrossEntropyLoss()\n",
    "num_epoch = 10\n",
    "net = CustomCNN()\n",
    "optimizer = torch.optim.Adam(net.parameters(), lr = 0.001)\n",
    "train_loss ,train_accuracy ,val_loss ,val_accuracy = train_model(net, train_dataLoader, val_dataLoader, criterion, optimizer,early_stopping, num_epoch)"
   ]
  },
  {
   "cell_type": "code",
   "execution_count": 11,
   "metadata": {
    "uuid": "1a663591-be4b-454d-ac00-7ea17342c4b9"
   },
   "outputs": [],
   "source": [
    "#保存模型\n",
    "model_dir = 'saved_models/'\n",
    "model_name = 'custom_model_1.pt'\n",
    "\n",
    "torch.save(net.state_dict(), model_dir+model_name)"
   ]
  },
  {
   "cell_type": "markdown",
   "metadata": {
    "cellType": "markdown",
    "uuid": "31386601-0958-420f-887c-5a4833868950"
   },
   "source": [
    "##### 3.2使用预训练VGG模型训练"
   ]
  },
  {
   "cell_type": "code",
   "execution_count": 12,
   "metadata": {
    "uuid": "58dc7f30-f18e-45d5-955c-73829901209c"
   },
   "outputs": [
    {
     "name": "stdout",
     "output_type": "stream",
     "text": [
      "Epoch: 0, train loss: 0.0911, train accracy: 0.9645, time: 241.2435019016266\n",
      "Epoch: 0, valid loss: 0.0596, valid accracy: 0.9775, time: 303.01126623153687\n",
      "\n",
      "Validation loss decreased (inf --> 0.059583).  Saving model ...\n",
      "Epoch: 1, train loss: 0.0594, train accracy: 0.9777, time: 544.7107264995575\n",
      "Epoch: 1, valid loss: 0.0510, valid accracy: 0.9777, time: 604.5309474468231\n",
      "\n",
      "Validation loss decreased (0.059583 --> 0.050997).  Saving model ...\n",
      "Epoch: 2, train loss: 0.0498, train accracy: 0.9816, time: 848.0505690574646\n",
      "Epoch: 2, valid loss: 0.0518, valid accracy: 0.9800, time: 907.0242629051208\n",
      "\n",
      "EarlyStopping counter: 1 out of 5\n",
      "Epoch: 3, train loss: 0.0452, train accracy: 0.9835, time: 1148.5610387325287\n",
      "Epoch: 3, valid loss: 0.0540, valid accracy: 0.9773, time: 1208.5379781723022\n",
      "\n",
      "EarlyStopping counter: 2 out of 5\n",
      "Epoch: 4, train loss: 0.0453, train accracy: 0.9827, time: 1449.6243815422058\n",
      "Epoch: 4, valid loss: 0.0454, valid accracy: 0.9816, time: 1508.289235830307\n",
      "\n",
      "Validation loss decreased (0.050997 --> 0.045371).  Saving model ...\n",
      "Epoch: 5, train loss: 0.0373, train accracy: 0.9866, time: 1757.9660511016846\n",
      "Epoch: 5, valid loss: 0.0482, valid accracy: 0.9826, time: 1817.3559348583221\n",
      "\n",
      "EarlyStopping counter: 1 out of 5\n",
      "Epoch: 6, train loss: 0.0393, train accracy: 0.9856, time: 2059.8227322101593\n",
      "Epoch: 6, valid loss: 0.0437, valid accracy: 0.9852, time: 2119.63628077507\n",
      "\n",
      "Validation loss decreased (0.045371 --> 0.043668).  Saving model ...\n",
      "Epoch: 7, train loss: 0.0342, train accracy: 0.9876, time: 2362.392046689987\n",
      "Epoch: 7, valid loss: 0.0567, valid accracy: 0.9818, time: 2422.108563184738\n",
      "\n",
      "EarlyStopping counter: 1 out of 5\n",
      "Epoch: 8, train loss: 0.0359, train accracy: 0.9887, time: 2664.00665307045\n",
      "Epoch: 8, valid loss: 0.0534, valid accracy: 0.9820, time: 2723.6994700431824\n",
      "\n",
      "EarlyStopping counter: 2 out of 5\n",
      "Epoch: 9, train loss: 0.0341, train accracy: 0.9886, time: 2964.4659259319305\n",
      "Epoch: 9, valid loss: 0.0654, valid accracy: 0.9747, time: 3023.7438926696777\n",
      "\n",
      "EarlyStopping counter: 3 out of 5\n",
      "Epoch: 11, valid loss: 0.0530, valid accracy: 0.9832, time: 3621.872228860855\n",
      "\n",
      "EarlyStopping counter: 5 out of 5\n",
      "Early stopping\n"
     ]
    }
   ],
   "source": [
    "early_stopping = EarlyStopping(patience=5, verbose=True, delta=0.001)\n",
    "criterion = nn.CrossEntropyLoss()\n",
    "num_epoch = 20\n",
    "net = Pre_CNN_VGG()\n",
    "optimizer = torch.optim.Adam(net.parameters(), lr = 0.001)\n",
    "train_loss ,train_accuracy ,val_loss ,val_accuracy = train_model(net, train_dataLoader, val_dataLoader, criterion, optimizer,early_stopping, num_epoch)\n"
   ]
  },
  {
   "cell_type": "code",
   "execution_count": 9,
   "metadata": {
    "uuid": "5d1160f4-d004-4e5d-bc1b-c47db91930e9"
   },
   "outputs": [],
   "source": [
    "model_dir = 'saved_models/'\n",
    "model_name = 'pre_vgg_model_3.pt'\n",
    "\n",
    "# after training, save your model parameters in the dir 'saved_models'\n",
    "torch.save(net.state_dict(), model_dir+model_name)"
   ]
  },
  {
   "cell_type": "markdown",
   "metadata": {
    "cellType": "markdown",
    "uuid": "0fc4a920-36b9-45d4-af92-7f0e23315a9d"
   },
   "source": [
    "可以看出，预训练的VGG模型效果更佳,因为VGG模型有更多的层，神经网络的层数对拟合效果的影响很大。\n",
    "\n",
    "在pytorchtools.py文件中定义了earlystopping，在验证损失停止下降时结束训练，防止模型过拟合。\n",
    "\n",
    "因为VGG模型有更复杂的结构，所以训练时的计算量大于自定义的简单模型，体现在训练时间上几乎是后者的二倍。"
   ]
  },
  {
   "cell_type": "markdown",
   "metadata": {
    "cellType": "markdown",
    "uuid": "bedf4d07-389c-4c57-bbca-51f8411c5719"
   },
   "source": [
    "### 4.生成结果 csv 文件\n"
   ]
  },
  {
   "cell_type": "code",
   "execution_count": 22,
   "metadata": {
    "uuid": "f5f7f5b2-94f1-45f9-bf01-994cf9429326"
   },
   "outputs": [],
   "source": [
    "from tqdm import tqdm\n",
    "from PIL import Image\n",
    "import torch.nn.functional as F\n",
    "import pandas as pd\n",
    "\n",
    "def predict(net,path):\n",
    "    id_list = []\n",
    "    pred_list = []\n",
    "    test_list = imagelist('data/test')\n",
    "    net.cuda()\n",
    "    with torch.no_grad():\n",
    "        for test_path in tqdm(test_list):\n",
    "            img = Image.open(test_path)\n",
    "            _id = int(test_path.split('/')[-1].split('.')[0])\n",
    "\n",
    "            img = transform_val(img)\n",
    "            img = img.unsqueeze(0)\n",
    "            img = img.cuda()\n",
    "\n",
    "            net.eval()\n",
    "\n",
    "            outputs = net(img)\n",
    "            preds = F.softmax(outputs, dim=1)[:, 1].tolist()\n",
    "\n",
    "            id_list.append(_id)\n",
    "            pred_list.append(preds[0])\n",
    "        res = pd.DataFrame({'id': id_list, 'label': pred_list})\n",
    "        res.sort_values(by='id', inplace=True)\n",
    "        res.reset_index(drop=True, inplace=True)\n",
    "        res.to_csv(path, index=False)"
   ]
  },
  {
   "cell_type": "code",
   "execution_count": 17,
   "metadata": {
    "uuid": "a43be652-0ee8-47ff-b2fb-5e3199bafdd7"
   },
   "outputs": [
    {
     "name": "stderr",
     "output_type": "stream",
     "text": [
      "100%|██████████| 12500/12500 [03:41<00:00, 56.53it/s]\n"
     ]
    }
   ],
   "source": [
    "net = Pre_CNN_VGG()\n",
    "predict(net,'vgg.csv')"
   ]
  },
  {
   "cell_type": "code",
   "execution_count": 23,
   "metadata": {
    "uuid": "26356363-e6f3-48ee-9b48-e89f9f8e5dd8"
   },
   "outputs": [
    {
     "name": "stderr",
     "output_type": "stream",
     "text": [
      "100%|██████████| 12500/12500 [02:20<00:00, 89.28it/s]\n"
     ]
    }
   ],
   "source": [
    "net = CustomCNN()\n",
    "predict(net,'CustomCNN.csv')"
   ]
  },
  {
   "cell_type": "code",
   "execution_count": null,
   "metadata": {
    "uuid": "fe7e7d6d-1688-4355-be5e-2607589b16bc"
   },
   "outputs": [],
   "source": []
  }
 ],
 "metadata": {
  "kernelspec": {
   "display_name": "PyTorch",
   "language": "python",
   "name": "pytorch"
  },
  "language_info": {
   "codemirror_mode": {
    "name": "ipython",
    "version": 3
   },
   "file_extension": ".py",
   "mimetype": "text/x-python",
   "name": "python",
   "nbconvert_exporter": "python",
   "pygments_lexer": "ipython3",
   "version": "3.6.4"
  }
 },
 "nbformat": 4,
 "nbformat_minor": 2
}
